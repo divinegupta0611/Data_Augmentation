{
 "cells": [
  {
   "cell_type": "code",
   "execution_count": 1,
   "id": "3ba13673-4f2d-417a-9246-19c5de09f9bc",
   "metadata": {},
   "outputs": [],
   "source": [
    "import cv2\n",
    "import numpy as np\n",
    "import random\n"
   ]
  },
  {
   "cell_type": "code",
   "execution_count": 2,
   "id": "855c2333-534d-4115-b147-83cb44b814f6",
   "metadata": {},
   "outputs": [],
   "source": [
    "# 1. Horizontal Flip\n",
    "def horizontal_flip(image):\n",
    "    return cv2.flip(image, 1)"
   ]
  },
  {
   "cell_type": "code",
   "execution_count": 3,
   "id": "5873fd89-3720-43bf-8b6f-de98adf90252",
   "metadata": {},
   "outputs": [],
   "source": [
    "# 2. Vertical Flip\n",
    "def vertical_flip(image):\n",
    "    return cv2.flip(image, 0)"
   ]
  },
  {
   "cell_type": "code",
   "execution_count": 4,
   "id": "cc2bb3e4-e157-4d36-af66-36950c42335d",
   "metadata": {},
   "outputs": [],
   "source": [
    "# 3. Rotation\n",
    "def rotate_image(image, angle=45):\n",
    "    (h, w) = image.shape[:2]\n",
    "    center = (w // 2, h // 2)\n",
    "    M = cv2.getRotationMatrix2D(center, angle, 1.0)\n",
    "    return cv2.warpAffine(image, M, (w, h))"
   ]
  },
  {
   "cell_type": "code",
   "execution_count": 5,
   "id": "66a98f64-96d1-4654-8447-bf8799a9c9ee",
   "metadata": {},
   "outputs": [],
   "source": [
    "# 4. Random Crop\n",
    "def random_crop(image, crop_size=(100,100)):\n",
    "    h, w = image.shape[:2]\n",
    "    ch, cw = crop_size\n",
    "    if ch > h or cw > w:   # prevent crop errors\n",
    "        return image\n",
    "    x = random.randint(0, w - cw)\n",
    "    y = random.randint(0, h - ch)\n",
    "    return image[y:y+ch, x:x+cw]\n"
   ]
  },
  {
   "cell_type": "code",
   "execution_count": 6,
   "id": "ef32b793-9329-4e80-9832-d8eb0b498dbf",
   "metadata": {},
   "outputs": [],
   "source": [
    "# 5. Brightness Adjustment\n",
    "def adjust_brightness(image, factor=1.5):\n",
    "    hsv = cv2.cvtColor(image, cv2.COLOR_BGR2HSV)\n",
    "    hsv[:,:,2] = np.clip(hsv[:,:,2] * factor, 0, 255)\n",
    "    return cv2.cvtColor(hsv, cv2.COLOR_HSV2BGR)"
   ]
  },
  {
   "cell_type": "code",
   "execution_count": 7,
   "id": "ae1ada21-e208-4126-b220-9ca32067f052",
   "metadata": {},
   "outputs": [],
   "source": [
    "# 6. Gaussian Noise\n",
    "def add_gaussian_noise(image, mean=0, sigma=25):\n",
    "    gauss = np.random.normal(mean, sigma, image.shape).astype('uint8')\n",
    "    noisy = cv2.add(image, gauss)\n",
    "    return noisy"
   ]
  },
  {
   "cell_type": "code",
   "execution_count": 8,
   "id": "fc533c31-fb83-4a0e-b033-00cf1766dec4",
   "metadata": {},
   "outputs": [],
   "source": [
    "# 7. Gaussian Blur\n",
    "def gaussian_blur(image, ksize=(5,5)):\n",
    "    return cv2.GaussianBlur(image, ksize, 0)"
   ]
  },
  {
   "cell_type": "code",
   "execution_count": 9,
   "id": "b594dba4-7e8b-44cf-934f-2caaf5dc93eb",
   "metadata": {},
   "outputs": [],
   "source": [
    "# 8. Scaling (Zoom)\n",
    "def scale_image(image, scale=1.5):\n",
    "    h, w = image.shape[:2]\n",
    "    return cv2.resize(image, (int(w*scale), int(h*scale)))"
   ]
  },
  {
   "cell_type": "code",
   "execution_count": 10,
   "id": "583a8018-afcf-4269-a1de-c558f925e1c5",
   "metadata": {},
   "outputs": [],
   "source": [
    "# 9. Shearing\n",
    "def shear_image(image, shear_factor=0.2):\n",
    "    h, w = image.shape[:2]\n",
    "    M = np.array([[1, shear_factor, 0],\n",
    "                  [0, 1, 0]], dtype=float)\n",
    "    return cv2.warpAffine(image, M, (w, h))"
   ]
  },
  {
   "cell_type": "code",
   "execution_count": 11,
   "id": "e78d0939-4e78-4396-a6da-b2e9a4cdf5f5",
   "metadata": {},
   "outputs": [],
   "source": [
    "# 10. Grayscale\n",
    "def to_grayscale(image):\n",
    "    return cv2.cvtColor(image, cv2.COLOR_BGR2GRAY)"
   ]
  },
  {
   "cell_type": "code",
   "execution_count": 14,
   "id": "59c14611-834e-4416-bd94-60e5c80f2921",
   "metadata": {},
   "outputs": [],
   "source": [
    "def flip_both(image):\n",
    "    return cv2.flip(image, -1)  # -1 flips both axes\n"
   ]
  },
  {
   "cell_type": "code",
   "execution_count": 15,
   "id": "a5b65fb1-e2ad-45b5-8765-5c2432ce0297",
   "metadata": {},
   "outputs": [],
   "source": [
    "def random_rotation(image, max_angle=30):\n",
    "    angle = random.uniform(-max_angle, max_angle)\n",
    "    return rotate_image(image, angle)\n"
   ]
  },
  {
   "cell_type": "code",
   "execution_count": 16,
   "id": "07bd412f-8278-40ef-bccf-a658a4233789",
   "metadata": {},
   "outputs": [],
   "source": [
    "def random_brightness_contrast(image):\n",
    "    alpha = random.uniform(0.8, 1.2)  # contrast\n",
    "    beta = random.randint(-30, 30)    # brightness\n",
    "    return cv2.convertScaleAbs(image, alpha=alpha, beta=beta)\n"
   ]
  },
  {
   "cell_type": "code",
   "execution_count": 17,
   "id": "873dc135-99fb-4253-aae6-8d6194030b83",
   "metadata": {},
   "outputs": [],
   "source": [
    "def random_perspective(image, scale=0.1):\n",
    "    h, w = image.shape[:2]\n",
    "    pts1 = np.float32([[0,0],[w,0],[0,h],[w,h]])\n",
    "    delta = scale * min(h,w)\n",
    "    pts2 = pts1 + np.random.uniform(-delta, delta, pts1.shape).astype(np.float32)\n",
    "    M = cv2.getPerspectiveTransform(pts1, pts2)\n",
    "    return cv2.warpPerspective(image, M, (w, h))\n"
   ]
  },
  {
   "cell_type": "code",
   "execution_count": 18,
   "id": "130a13e7-58fd-463a-a877-3fbaca33a8e1",
   "metadata": {},
   "outputs": [],
   "source": [
    "def motion_blur(image, kernel_size=15):\n",
    "    kernel = np.zeros((kernel_size, kernel_size))\n",
    "    kernel[int((kernel_size-1)/2), :] = np.ones(kernel_size)\n",
    "    kernel /= kernel_size\n",
    "    return cv2.filter2D(image, -1, kernel)\n"
   ]
  },
  {
   "cell_type": "code",
   "execution_count": 19,
   "id": "589e2f84-fc1d-42e9-be58-a2ad8f26083c",
   "metadata": {},
   "outputs": [],
   "source": [
    "def salt_and_pepper(image, amount=0.02):\n",
    "    output = np.copy(image)\n",
    "    num_salt = np.ceil(amount * image.size * 0.5)\n",
    "    num_pepper = np.ceil(amount * image.size * 0.5)\n",
    "    \n",
    "    # Salt\n",
    "    coords = [np.random.randint(0, i - 1, int(num_salt)) for i in image.shape[:2]]\n",
    "    output[coords[0], coords[1], :] = 255\n",
    "    \n",
    "    # Pepper\n",
    "    coords = [np.random.randint(0, i - 1, int(num_pepper)) for i in image.shape[:2]]\n",
    "    output[coords[0], coords[1], :] = 0\n",
    "    \n",
    "    return output\n"
   ]
  },
  {
   "cell_type": "code",
   "execution_count": 20,
   "id": "e7fae426-9186-4eea-a18d-e80cbb013c7d",
   "metadata": {},
   "outputs": [],
   "source": [
    "def channel_shift(image, shift_limit=50):\n",
    "    image = image.astype(np.int32)\n",
    "    for c in range(3):\n",
    "        image[:,:,c] += random.randint(-shift_limit, shift_limit)\n",
    "    return np.clip(image, 0, 255).astype(np.uint8)\n"
   ]
  },
  {
   "cell_type": "code",
   "execution_count": 21,
   "id": "f44006e9-24ca-4d00-8884-8165a9854276",
   "metadata": {},
   "outputs": [],
   "source": [
    "def cutout(image, size=50):\n",
    "    h, w = image.shape[:2]\n",
    "    x = random.randint(0, w - size)\n",
    "    y = random.randint(0, h - size)\n",
    "    image[y:y+size, x:x+size] = 0\n",
    "    return image\n"
   ]
  },
  {
   "cell_type": "code",
   "execution_count": 22,
   "id": "57eab319-fe77-4dcf-bf0f-a7929e8ba2f5",
   "metadata": {},
   "outputs": [],
   "source": [
    "from scipy.ndimage import map_coordinates, gaussian_filter\n",
    "\n",
    "def elastic_transform(image, alpha=34, sigma=4):\n",
    "    random_state = np.random.RandomState(None)\n",
    "    shape = image.shape[:2]\n",
    "\n",
    "    dx = gaussian_filter((random_state.rand(*shape) * 2 - 1), sigma) * alpha\n",
    "    dy = gaussian_filter((random_state.rand(*shape) * 2 - 1), sigma) * alpha\n",
    "    x, y = np.meshgrid(np.arange(shape[1]), np.arange(shape[0]))\n",
    "    indices = (np.reshape(y + dy, (-1,)),\n",
    "               np.reshape(x + dx, (-1,)))\n",
    "\n",
    "    # Apply transform separately to each channel\n",
    "    transformed = np.zeros_like(image)\n",
    "    for i in range(image.shape[2]):\n",
    "        channel = image[..., i]\n",
    "        distorted = map_coordinates(channel, indices, order=1, mode='reflect')\n",
    "        transformed[..., i] = distorted.reshape(shape)\n",
    "\n",
    "    return transformed\n"
   ]
  },
  {
   "cell_type": "code",
   "execution_count": 23,
   "id": "5884c2ff-d1c3-4982-85b7-e903269400fa",
   "metadata": {},
   "outputs": [],
   "source": [
    "def random_hue_saturation(image, hue_shift=10, sat_shift=30):\n",
    "    hsv = cv2.cvtColor(image, cv2.COLOR_BGR2HSV).astype(np.int32)\n",
    "    hsv[:,:,0] = (hsv[:,:,0] + random.randint(-hue_shift, hue_shift)) % 180\n",
    "    hsv[:,:,1] = np.clip(hsv[:,:,1] + random.randint(-sat_shift, sat_shift), 0, 255)\n",
    "    return cv2.cvtColor(hsv.astype(np.uint8), cv2.COLOR_HSV2BGR)\n"
   ]
  },
  {
   "cell_type": "code",
   "execution_count": 24,
   "id": "4f0aee08-82b8-40aa-9956-879975179f25",
   "metadata": {},
   "outputs": [],
   "source": [
    "# ==============================\n",
    "# Master function to apply all 20 augmentations\n",
    "# ==============================\n",
    "def augment_all(image_path):\n",
    "    image = cv2.imread(image_path)\n",
    "\n",
    "    augmentations = {\n",
    "        # Original 10\n",
    "        \"horizontal_flip\": horizontal_flip(image),\n",
    "        \"vertical_flip\": vertical_flip(image),\n",
    "        \"rotation\": rotate_image(image, 45),\n",
    "        \"random_crop\": random_crop(image, (150, 150)),\n",
    "        \"brightness\": adjust_brightness(image, 1.5),\n",
    "        \"gaussian_noise\": add_gaussian_noise(image),\n",
    "        \"gaussian_blur\": gaussian_blur(image),\n",
    "        \"scaled\": scale_image(image, 1.2),\n",
    "        \"sheared\": shear_image(image),\n",
    "        \"grayscale\": to_grayscale(image),\n",
    "\n",
    "        # New 10\n",
    "        \"flip_both\": flip_both(image),\n",
    "        \"random_rotation\": random_rotation(image),\n",
    "        \"random_brightness_contrast\": random_brightness_contrast(image),\n",
    "        \"random_perspective\": random_perspective(image),\n",
    "        \"motion_blur\": motion_blur(image),\n",
    "        \"salt_and_pepper\": salt_and_pepper(image),\n",
    "        \"channel_shift\": channel_shift(image),\n",
    "        \"cutout\": cutout(image.copy()),  # copy to avoid overwriting\n",
    "        \"elastic_transform\": elastic_transform(image),\n",
    "        \"random_hue_saturation\": random_hue_saturation(image)\n",
    "    }\n",
    "\n",
    "    # Save augmented images\n",
    "    results = {}\n",
    "    for name, aug_img in augmentations.items():\n",
    "        out_path = f\"output_{name}.jpg\"\n",
    "        cv2.imwrite(out_path, aug_img)\n",
    "        results[name] = out_path\n",
    "\n",
    "    return results\n"
   ]
  },
  {
   "cell_type": "code",
   "execution_count": 25,
   "id": "dda61833-cfff-482c-87f5-29db706b3f7a",
   "metadata": {},
   "outputs": [
    {
     "ename": "RuntimeError",
     "evalue": "invalid shape for coordinate array",
     "output_type": "error",
     "traceback": [
      "\u001b[31m---------------------------------------------------------------------------\u001b[39m",
      "\u001b[31mRuntimeError\u001b[39m                              Traceback (most recent call last)",
      "\u001b[36mCell\u001b[39m\u001b[36m \u001b[39m\u001b[32mIn[25]\u001b[39m\u001b[32m, line 6\u001b[39m\n\u001b[32m      4\u001b[39m \u001b[38;5;28;01mif\u001b[39;00m \u001b[34m__name__\u001b[39m == \u001b[33m\"\u001b[39m\u001b[33m__main__\u001b[39m\u001b[33m\"\u001b[39m:\n\u001b[32m      5\u001b[39m     path = \u001b[33m\"\u001b[39m\u001b[33mDIvine.jpg\u001b[39m\u001b[33m\"\u001b[39m   \u001b[38;5;66;03m# replace with uploaded image\u001b[39;00m\n\u001b[32m----> \u001b[39m\u001b[32m6\u001b[39m     results = \u001b[43maugment_all\u001b[49m\u001b[43m(\u001b[49m\u001b[43mpath\u001b[49m\u001b[43m)\u001b[49m\n\u001b[32m      7\u001b[39m     \u001b[38;5;28mprint\u001b[39m(\u001b[33m\"\u001b[39m\u001b[33m✅ Augmented images saved successfully!\u001b[39m\u001b[33m\"\u001b[39m)\n",
      "\u001b[36mCell\u001b[39m\u001b[36m \u001b[39m\u001b[32mIn[24]\u001b[39m\u001b[32m, line 29\u001b[39m, in \u001b[36maugment_all\u001b[39m\u001b[34m(image_path)\u001b[39m\n\u001b[32m      4\u001b[39m \u001b[38;5;28;01mdef\u001b[39;00m\u001b[38;5;250m \u001b[39m\u001b[34maugment_all\u001b[39m(image_path):\n\u001b[32m      5\u001b[39m     image = cv2.imread(image_path)\n\u001b[32m      7\u001b[39m     augmentations = {\n\u001b[32m      8\u001b[39m         \u001b[38;5;66;03m# Original 10\u001b[39;00m\n\u001b[32m      9\u001b[39m         \u001b[33m\"\u001b[39m\u001b[33mhorizontal_flip\u001b[39m\u001b[33m\"\u001b[39m: horizontal_flip(image),\n\u001b[32m     10\u001b[39m         \u001b[33m\"\u001b[39m\u001b[33mvertical_flip\u001b[39m\u001b[33m\"\u001b[39m: vertical_flip(image),\n\u001b[32m     11\u001b[39m         \u001b[33m\"\u001b[39m\u001b[33mrotation\u001b[39m\u001b[33m\"\u001b[39m: rotate_image(image, \u001b[32m45\u001b[39m),\n\u001b[32m     12\u001b[39m         \u001b[33m\"\u001b[39m\u001b[33mrandom_crop\u001b[39m\u001b[33m\"\u001b[39m: random_crop(image, (\u001b[32m150\u001b[39m, \u001b[32m150\u001b[39m)),\n\u001b[32m     13\u001b[39m         \u001b[33m\"\u001b[39m\u001b[33mbrightness\u001b[39m\u001b[33m\"\u001b[39m: adjust_brightness(image, \u001b[32m1.5\u001b[39m),\n\u001b[32m     14\u001b[39m         \u001b[33m\"\u001b[39m\u001b[33mgaussian_noise\u001b[39m\u001b[33m\"\u001b[39m: add_gaussian_noise(image),\n\u001b[32m     15\u001b[39m         \u001b[33m\"\u001b[39m\u001b[33mgaussian_blur\u001b[39m\u001b[33m\"\u001b[39m: gaussian_blur(image),\n\u001b[32m     16\u001b[39m         \u001b[33m\"\u001b[39m\u001b[33mscaled\u001b[39m\u001b[33m\"\u001b[39m: scale_image(image, \u001b[32m1.2\u001b[39m),\n\u001b[32m     17\u001b[39m         \u001b[33m\"\u001b[39m\u001b[33msheared\u001b[39m\u001b[33m\"\u001b[39m: shear_image(image),\n\u001b[32m     18\u001b[39m         \u001b[33m\"\u001b[39m\u001b[33mgrayscale\u001b[39m\u001b[33m\"\u001b[39m: to_grayscale(image),\n\u001b[32m     19\u001b[39m \n\u001b[32m     20\u001b[39m         \u001b[38;5;66;03m# New 10\u001b[39;00m\n\u001b[32m     21\u001b[39m         \u001b[33m\"\u001b[39m\u001b[33mflip_both\u001b[39m\u001b[33m\"\u001b[39m: flip_both(image),\n\u001b[32m     22\u001b[39m         \u001b[33m\"\u001b[39m\u001b[33mrandom_rotation\u001b[39m\u001b[33m\"\u001b[39m: random_rotation(image),\n\u001b[32m     23\u001b[39m         \u001b[33m\"\u001b[39m\u001b[33mrandom_brightness_contrast\u001b[39m\u001b[33m\"\u001b[39m: random_brightness_contrast(image),\n\u001b[32m     24\u001b[39m         \u001b[33m\"\u001b[39m\u001b[33mrandom_perspective\u001b[39m\u001b[33m\"\u001b[39m: random_perspective(image),\n\u001b[32m     25\u001b[39m         \u001b[33m\"\u001b[39m\u001b[33mmotion_blur\u001b[39m\u001b[33m\"\u001b[39m: motion_blur(image),\n\u001b[32m     26\u001b[39m         \u001b[33m\"\u001b[39m\u001b[33msalt_and_pepper\u001b[39m\u001b[33m\"\u001b[39m: salt_and_pepper(image),\n\u001b[32m     27\u001b[39m         \u001b[33m\"\u001b[39m\u001b[33mchannel_shift\u001b[39m\u001b[33m\"\u001b[39m: channel_shift(image),\n\u001b[32m     28\u001b[39m         \u001b[33m\"\u001b[39m\u001b[33mcutout\u001b[39m\u001b[33m\"\u001b[39m: cutout(image.copy()),  \u001b[38;5;66;03m# copy to avoid overwriting\u001b[39;00m\n\u001b[32m---> \u001b[39m\u001b[32m29\u001b[39m         \u001b[33m\"\u001b[39m\u001b[33melastic_transform\u001b[39m\u001b[33m\"\u001b[39m: \u001b[43melastic_transform\u001b[49m\u001b[43m(\u001b[49m\u001b[43mimage\u001b[49m\u001b[43m)\u001b[49m,\n\u001b[32m     30\u001b[39m         \u001b[33m\"\u001b[39m\u001b[33mrandom_hue_saturation\u001b[39m\u001b[33m\"\u001b[39m: random_hue_saturation(image)\n\u001b[32m     31\u001b[39m     }\n\u001b[32m     33\u001b[39m     \u001b[38;5;66;03m# Save augmented images\u001b[39;00m\n\u001b[32m     34\u001b[39m     results = {}\n",
      "\u001b[36mCell\u001b[39m\u001b[36m \u001b[39m\u001b[32mIn[22]\u001b[39m\u001b[32m, line 11\u001b[39m, in \u001b[36melastic_transform\u001b[39m\u001b[34m(image, alpha, sigma)\u001b[39m\n\u001b[32m      9\u001b[39m x, y = np.meshgrid(np.arange(shape[\u001b[32m1\u001b[39m]), np.arange(shape[\u001b[32m0\u001b[39m]))\n\u001b[32m     10\u001b[39m indices = np.reshape(y+dy, (-\u001b[32m1\u001b[39m,\u001b[32m1\u001b[39m)), np.reshape(x+dx, (-\u001b[32m1\u001b[39m,\u001b[32m1\u001b[39m))\n\u001b[32m---> \u001b[39m\u001b[32m11\u001b[39m distorted = \u001b[43mmap_coordinates\u001b[49m\u001b[43m(\u001b[49m\u001b[43mimage\u001b[49m\u001b[43m,\u001b[49m\u001b[43m \u001b[49m\u001b[43mindices\u001b[49m\u001b[43m,\u001b[49m\u001b[43m \u001b[49m\u001b[43morder\u001b[49m\u001b[43m=\u001b[49m\u001b[32;43m1\u001b[39;49m\u001b[43m,\u001b[49m\u001b[43m \u001b[49m\u001b[43mmode\u001b[49m\u001b[43m=\u001b[49m\u001b[33;43m'\u001b[39;49m\u001b[33;43mreflect\u001b[39;49m\u001b[33;43m'\u001b[39;49m\u001b[43m)\u001b[49m\n\u001b[32m     12\u001b[39m \u001b[38;5;28;01mreturn\u001b[39;00m distorted.reshape(image.shape)\n",
      "\u001b[36mFile \u001b[39m\u001b[32m~\\AppData\\Local\\Programs\\Python\\Python313\\Lib\\site-packages\\scipy\\ndimage\\_interpolation.py:455\u001b[39m, in \u001b[36mmap_coordinates\u001b[39m\u001b[34m(input, coordinates, output, order, mode, cval, prefilter)\u001b[39m\n\u001b[32m    453\u001b[39m     \u001b[38;5;28;01mraise\u001b[39;00m \u001b[38;5;167;01mRuntimeError\u001b[39;00m(\u001b[33m'\u001b[39m\u001b[33minput and output rank must be > 0\u001b[39m\u001b[33m'\u001b[39m)\n\u001b[32m    454\u001b[39m \u001b[38;5;28;01mif\u001b[39;00m coordinates.shape[\u001b[32m0\u001b[39m] != \u001b[38;5;28minput\u001b[39m.ndim:\n\u001b[32m--> \u001b[39m\u001b[32m455\u001b[39m     \u001b[38;5;28;01mraise\u001b[39;00m \u001b[38;5;167;01mRuntimeError\u001b[39;00m(\u001b[33m'\u001b[39m\u001b[33minvalid shape for coordinate array\u001b[39m\u001b[33m'\u001b[39m)\n\u001b[32m    456\u001b[39m complex_output = np.iscomplexobj(\u001b[38;5;28minput\u001b[39m)\n\u001b[32m    457\u001b[39m output = _ni_support._get_output(output, \u001b[38;5;28minput\u001b[39m, shape=output_shape,\n\u001b[32m    458\u001b[39m                                  complex_output=complex_output)\n",
      "\u001b[31mRuntimeError\u001b[39m: invalid shape for coordinate array"
     ]
    }
   ],
   "source": [
    "# ==============================\n",
    "# Run example\n",
    "# ==============================\n",
    "if __name__ == \"__main__\":\n",
    "    path = \"DIvine.jpg\"   # replace with uploaded image\n",
    "    results = augment_all(path)\n",
    "    print(\"✅ Augmented images saved successfully!\")"
   ]
  },
  {
   "cell_type": "code",
   "execution_count": null,
   "id": "5c09b82c-83a7-4131-b4e4-7aa541d3fd92",
   "metadata": {},
   "outputs": [],
   "source": []
  }
 ],
 "metadata": {
  "kernelspec": {
   "display_name": "Python 3 (ipykernel)",
   "language": "python",
   "name": "python3"
  },
  "language_info": {
   "codemirror_mode": {
    "name": "ipython",
    "version": 3
   },
   "file_extension": ".py",
   "mimetype": "text/x-python",
   "name": "python",
   "nbconvert_exporter": "python",
   "pygments_lexer": "ipython3",
   "version": "3.13.3"
  }
 },
 "nbformat": 4,
 "nbformat_minor": 5
}
